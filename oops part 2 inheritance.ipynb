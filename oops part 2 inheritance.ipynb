{
 "cells": [
  {
   "cell_type": "code",
   "execution_count": 1,
   "id": "6fe1ddf4-9c35-40dc-bfeb-b65982456962",
   "metadata": {},
   "outputs": [],
   "source": [
    "class test:\n",
    "    \n",
    "    def test_meth(self) :\n",
    "        return \"this is my first class \""
   ]
  },
  {
   "cell_type": "code",
   "execution_count": 2,
   "id": "5db9b193-e264-4bda-a90c-65d794468b56",
   "metadata": {},
   "outputs": [],
   "source": [
    "class child_test(test) :\n",
    "    pass "
   ]
  },
  {
   "cell_type": "code",
   "execution_count": 3,
   "id": "45732d16-da08-429b-9c65-583135c4633f",
   "metadata": {},
   "outputs": [],
   "source": [
    "child_test_obj = child_test()"
   ]
  },
  {
   "cell_type": "code",
   "execution_count": 5,
   "id": "d13d843a-0910-4d67-acb8-d62887cd632a",
   "metadata": {},
   "outputs": [
    {
     "data": {
      "text/plain": [
       "'this is my first class '"
      ]
     },
     "execution_count": 5,
     "metadata": {},
     "output_type": "execute_result"
    }
   ],
   "source": [
    "child_test_obj.test_meth()"
   ]
  },
  {
   "cell_type": "code",
   "execution_count": 6,
   "id": "11e38b51-4210-481d-83f5-7ac59da25fa6",
   "metadata": {},
   "outputs": [],
   "source": [
    "class class1:\n",
    "    \n",
    "    def test_class1(self) :\n",
    "        return \"this is a meth from class1\"\n",
    "    \n",
    "    "
   ]
  },
  {
   "cell_type": "code",
   "execution_count": 7,
   "id": "a67953a7-273d-4093-9789-1c327cff62ce",
   "metadata": {},
   "outputs": [],
   "source": [
    "class class2(class1) :\n",
    "    def test_class2(self) :\n",
    "        return \" this is a meth from class 2\""
   ]
  },
  {
   "cell_type": "code",
   "execution_count": 8,
   "id": "a0d32392-291f-4bed-b942-dfc8c2f8ea68",
   "metadata": {},
   "outputs": [],
   "source": [
    "class class3 (class2) :\n",
    "    pass"
   ]
  },
  {
   "cell_type": "code",
   "execution_count": 10,
   "id": "8a8360ef-acd0-4053-97b7-b43fec28b8ba",
   "metadata": {},
   "outputs": [],
   "source": [
    "obj_class3 = class3()"
   ]
  },
  {
   "cell_type": "code",
   "execution_count": 11,
   "id": "c075345a-a0f7-45f4-8003-6eae3d53e62c",
   "metadata": {},
   "outputs": [
    {
     "data": {
      "text/plain": [
       "'this is a meth from class1'"
      ]
     },
     "execution_count": 11,
     "metadata": {},
     "output_type": "execute_result"
    }
   ],
   "source": [
    "obj_class3.test_class1()"
   ]
  },
  {
   "cell_type": "code",
   "execution_count": 13,
   "id": "fdd5e59f-6c50-4d91-a364-9f75c748a23e",
   "metadata": {},
   "outputs": [
    {
     "data": {
      "text/plain": [
       "' this is a meth from class 2'"
      ]
     },
     "execution_count": 13,
     "metadata": {},
     "output_type": "execute_result"
    }
   ],
   "source": [
    "obj_class3.test_class2()"
   ]
  },
  {
   "cell_type": "markdown",
   "id": "f3fc4a5d-c341-405e-b058-6945f7cd7079",
   "metadata": {},
   "source": [
    "'''Multiple inheritance'''"
   ]
  },
  {
   "cell_type": "code",
   "execution_count": 14,
   "id": "8fa31ecc-3233-43b6-9830-9698ca6d389c",
   "metadata": {},
   "outputs": [],
   "source": [
    "class class1:\n",
    "    \n",
    "    def test_class1(self) :\n",
    "        return \"this is a class1\""
   ]
  },
  {
   "cell_type": "code",
   "execution_count": 15,
   "id": "1f45faf7-9107-44c1-a1b1-99dd60d49c71",
   "metadata": {},
   "outputs": [],
   "source": [
    "class class2:\n",
    "    \n",
    "    def test_class2(self) :\n",
    "        return \" this is class2\""
   ]
  },
  {
   "cell_type": "code",
   "execution_count": 16,
   "id": "263fc166-d6f9-435d-b74f-cef9a2610000",
   "metadata": {},
   "outputs": [],
   "source": [
    "class class3(class1 , class2) :\n",
    "    pass"
   ]
  },
  {
   "cell_type": "code",
   "execution_count": 17,
   "id": "1107dd5d-5625-494b-89f7-1c3b07667b91",
   "metadata": {},
   "outputs": [],
   "source": [
    "obj_class3 = class3()"
   ]
  },
  {
   "cell_type": "code",
   "execution_count": 18,
   "id": "c26d7924-2474-41b1-b669-4019eb413a0d",
   "metadata": {},
   "outputs": [
    {
     "data": {
      "text/plain": [
       "'this is a class1'"
      ]
     },
     "execution_count": 18,
     "metadata": {},
     "output_type": "execute_result"
    }
   ],
   "source": [
    "obj_class3.test_class1()"
   ]
  },
  {
   "cell_type": "code",
   "execution_count": 19,
   "id": "93fa9af6-f19c-49c7-94a2-7b403d29dc31",
   "metadata": {},
   "outputs": [
    {
     "data": {
      "text/plain": [
       "' this is class2'"
      ]
     },
     "execution_count": 19,
     "metadata": {},
     "output_type": "execute_result"
    }
   ],
   "source": [
    "obj_class3.test_class2()"
   ]
  },
  {
   "cell_type": "code",
   "execution_count": null,
   "id": "9570cfa8-7ec6-42b5-b0b1-d16cbe5f4910",
   "metadata": {},
   "outputs": [],
   "source": []
  }
 ],
 "metadata": {
  "kernelspec": {
   "display_name": "Python 3 (ipykernel)",
   "language": "python",
   "name": "python3"
  },
  "language_info": {
   "codemirror_mode": {
    "name": "ipython",
    "version": 3
   },
   "file_extension": ".py",
   "mimetype": "text/x-python",
   "name": "python",
   "nbconvert_exporter": "python",
   "pygments_lexer": "ipython3",
   "version": "3.10.8"
  }
 },
 "nbformat": 4,
 "nbformat_minor": 5
}
