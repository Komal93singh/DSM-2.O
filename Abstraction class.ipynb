{
 "cells": [
  {
   "cell_type": "code",
   "execution_count": 1,
   "id": "bbfd96c3-67cb-4d81-8527-421db876c890",
   "metadata": {},
   "outputs": [],
   "source": [
    "import abc\n",
    "class pwskills:\n",
    "    @abc.abstractmethod\n",
    "    def students_details(self):\n",
    "        pass\n",
    "    @abc.abstractmethod\n",
    "    def student_assignment(self):\n",
    "        pass\n",
    "    @abc.abstractmethod\n",
    "    def student_marks(self):\n",
    "        pass"
   ]
  },
  {
   "cell_type": "code",
   "execution_count": 2,
   "id": "627357b4-b272-4777-904f-c5013f7e8dd7",
   "metadata": {},
   "outputs": [],
   "source": [
    "class student_detils(pwskills):\n",
    "    \n",
    "    def students_details(self):\n",
    "        return \"this is meth for taking students details\"\n",
    "    \n",
    "    def student_assignment(self):\n",
    "        return \"this is a meth for assing details for a particult student\""
   ]
  },
  {
   "cell_type": "code",
   "execution_count": 5,
   "id": "e5eaf3ef-62dc-42dc-bc97-62a7cf31d83f",
   "metadata": {},
   "outputs": [],
   "source": [
    "class data_science_masters(pwskills):\n",
    "    \n",
    "    def students_details(self):\n",
    "        return \"this will return a student details for data science masters \"\n",
    "    \n",
    "    def student_assignment(self):\n",
    "        return \"this will give you a student assignment detaild for data science masters \""
   ]
  },
  {
   "cell_type": "code",
   "execution_count": 6,
   "id": "74cc2cc1-d5ef-4c63-97f6-ff547ee60e59",
   "metadata": {},
   "outputs": [
    {
     "data": {
      "text/plain": [
       "'this will return a student details for data science masters '"
      ]
     },
     "execution_count": 6,
     "metadata": {},
     "output_type": "execute_result"
    }
   ],
   "source": [
    "dsm = data_science_masters()\n",
    "dsm.students_details()"
   ]
  },
  {
   "cell_type": "code",
   "execution_count": 7,
   "id": "f1393fb9-1ded-4c4a-b60d-2206cf1707b9",
   "metadata": {},
   "outputs": [
    {
     "data": {
      "text/plain": [
       "'this is meth for taking students details'"
      ]
     },
     "execution_count": 7,
     "metadata": {},
     "output_type": "execute_result"
    }
   ],
   "source": [
    "sd = student_detils()\n",
    "sd.students_details()"
   ]
  },
  {
   "cell_type": "code",
   "execution_count": null,
   "id": "59ef2118-4dcb-4e4c-b07f-219f1d9374f3",
   "metadata": {},
   "outputs": [],
   "source": []
  }
 ],
 "metadata": {
  "kernelspec": {
   "display_name": "Python 3 (ipykernel)",
   "language": "python",
   "name": "python3"
  },
  "language_info": {
   "codemirror_mode": {
    "name": "ipython",
    "version": 3
   },
   "file_extension": ".py",
   "mimetype": "text/x-python",
   "name": "python",
   "nbconvert_exporter": "python",
   "pygments_lexer": "ipython3",
   "version": "3.10.8"
  }
 },
 "nbformat": 4,
 "nbformat_minor": 5
}
