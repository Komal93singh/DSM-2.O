{
 "cells": [
  {
   "cell_type": "markdown",
   "id": "07bb8c6d-e5fb-4053-88ac-4db4ec466b64",
   "metadata": {},
   "source": [
    "\"Oops\" stands for object-oriented programming system"
   ]
  },
  {
   "cell_type": "code",
   "execution_count": 1,
   "id": "55222a20-c417-4261-9ee3-258838439de6",
   "metadata": {},
   "outputs": [],
   "source": [
    "a = 1"
   ]
  },
  {
   "cell_type": "code",
   "execution_count": 2,
   "id": "78e319fd-96e2-4dbc-8183-a80348cf9dc2",
   "metadata": {},
   "outputs": [
    {
     "name": "stdout",
     "output_type": "stream",
     "text": [
      "<class 'int'>\n"
     ]
    }
   ],
   "source": [
    "print(type(a))"
   ]
  },
  {
   "cell_type": "code",
   "execution_count": 3,
   "id": "9bea87bc-20d4-476d-8a0b-e7814d004fae",
   "metadata": {},
   "outputs": [
    {
     "name": "stdout",
     "output_type": "stream",
     "text": [
      "<class 'str'>\n"
     ]
    }
   ],
   "source": [
    "print(type(\"pwskills\"))"
   ]
  },
  {
   "cell_type": "code",
   "execution_count": 4,
   "id": "c7ff0bc9-9cf5-40a6-87a1-c98377b1e064",
   "metadata": {},
   "outputs": [],
   "source": [
    "class test:\n",
    "    pass"
   ]
  },
  {
   "cell_type": "code",
   "execution_count": 5,
   "id": "bf06760d-3e48-4ff4-a29e-5f25e2c1f1aa",
   "metadata": {},
   "outputs": [],
   "source": [
    "a = test()"
   ]
  },
  {
   "cell_type": "code",
   "execution_count": 6,
   "id": "54802684-549a-4ca4-946a-04c2942ea166",
   "metadata": {},
   "outputs": [
    {
     "data": {
      "text/plain": [
       "__main__.test"
      ]
     },
     "execution_count": 6,
     "metadata": {},
     "output_type": "execute_result"
    }
   ],
   "source": [
    "type(a)"
   ]
  },
  {
   "cell_type": "code",
   "execution_count": 7,
   "id": "ca8dd905-8dfb-4a9e-ad45-f4810d5be25f",
   "metadata": {},
   "outputs": [
    {
     "name": "stdout",
     "output_type": "stream",
     "text": [
      "<class '__main__.test'>\n"
     ]
    }
   ],
   "source": [
    "print(type(a))"
   ]
  },
  {
   "cell_type": "code",
   "execution_count": 12,
   "id": "dbcbaf29-a453-49fb-856e-5c35c2ee6910",
   "metadata": {},
   "outputs": [],
   "source": [
    "class pwskills :\n",
    "    \n",
    "    def welcome_msg(self):\n",
    "        print(\"welcome to pwskills\")"
   ]
  },
  {
   "cell_type": "code",
   "execution_count": 13,
   "id": "a9ce618e-90ae-4346-aba7-5f776619226e",
   "metadata": {},
   "outputs": [],
   "source": [
    "rohan = pwskills()"
   ]
  },
  {
   "cell_type": "code",
   "execution_count": 14,
   "id": "ad621af9-473d-4d47-8705-89ed3273dc82",
   "metadata": {},
   "outputs": [
    {
     "name": "stdout",
     "output_type": "stream",
     "text": [
      "<class '__main__.pwskills'>\n"
     ]
    }
   ],
   "source": [
    "print(type(rohan))"
   ]
  },
  {
   "cell_type": "code",
   "execution_count": 15,
   "id": "1f80c704-a55c-42a9-8eae-fabe87692f00",
   "metadata": {},
   "outputs": [
    {
     "name": "stdout",
     "output_type": "stream",
     "text": [
      "welcome to pwskills\n"
     ]
    }
   ],
   "source": [
    "rohan.welcome_msg()"
   ]
  },
  {
   "cell_type": "code",
   "execution_count": 17,
   "id": "3a4e8ce3-d1fe-4ab1-8297-8c16697669e3",
   "metadata": {},
   "outputs": [],
   "source": [
    "gaurav = pwskills()"
   ]
  },
  {
   "cell_type": "code",
   "execution_count": 18,
   "id": "12954dad-2aa5-4edb-b60e-2a2fd2441379",
   "metadata": {},
   "outputs": [
    {
     "name": "stdout",
     "output_type": "stream",
     "text": [
      "welcome to pwskills\n"
     ]
    }
   ],
   "source": [
    "gaurav.welcome_msg()"
   ]
  },
  {
   "cell_type": "code",
   "execution_count": 19,
   "id": "1a4e5c9d-9836-458b-977b-7af9d712c8ca",
   "metadata": {},
   "outputs": [],
   "source": [
    "class pwskills1 :\n",
    "    \n",
    "    def __init__(self , phone_number , email_id , student_id ):\n",
    "        self.phone_number = phone_number\n",
    "        self.email_id = email_id\n",
    "        self.student_id = student_id\n",
    "    def return_student_deetials(self) :\n",
    "        return self.student_id , self.phone_number , self.email_id\n",
    "    "
   ]
  },
  {
   "cell_type": "code",
   "execution_count": 20,
   "id": "8f860b4d-68bd-441a-bd78-a3f375f83b7c",
   "metadata": {},
   "outputs": [
    {
     "ename": "TypeError",
     "evalue": "pwskills1.__init__() missing 3 required positional arguments: 'phone_number', 'email_id', and 'student_id'",
     "output_type": "error",
     "traceback": [
      "\u001b[0;31m---------------------------------------------------------------------------\u001b[0m",
      "\u001b[0;31mTypeError\u001b[0m                                 Traceback (most recent call last)",
      "Cell \u001b[0;32mIn[20], line 1\u001b[0m\n\u001b[0;32m----> 1\u001b[0m rohan \u001b[38;5;241m=\u001b[39m \u001b[43mpwskills1\u001b[49m\u001b[43m(\u001b[49m\u001b[43m)\u001b[49m\n",
      "\u001b[0;31mTypeError\u001b[0m: pwskills1.__init__() missing 3 required positional arguments: 'phone_number', 'email_id', and 'student_id'"
     ]
    }
   ],
   "source": [
    "rohan = pwskills1()"
   ]
  },
  {
   "cell_type": "code",
   "execution_count": 21,
   "id": "94b9a963-54c0-4bdb-832c-3d58314f5e4e",
   "metadata": {},
   "outputs": [],
   "source": [
    "rohan = pwskills1(1223423454, \"rohan@gmail.com\" ,101)"
   ]
  },
  {
   "cell_type": "code",
   "execution_count": 34,
   "id": "3e4efa8e-1aa9-4b36-8deb-8e586233e011",
   "metadata": {},
   "outputs": [
    {
     "data": {
      "text/plain": [
       "1223423454"
      ]
     },
     "execution_count": 34,
     "metadata": {},
     "output_type": "execute_result"
    }
   ],
   "source": [
    "rohan.phone_number"
   ]
  },
  {
   "cell_type": "code",
   "execution_count": 35,
   "id": "67a3b829-04bf-4d77-a7f6-1c154f429555",
   "metadata": {},
   "outputs": [
    {
     "data": {
      "text/plain": [
       "'rohan@gmail.com'"
      ]
     },
     "execution_count": 35,
     "metadata": {},
     "output_type": "execute_result"
    }
   ],
   "source": [
    "rohan.email_id"
   ]
  },
  {
   "cell_type": "code",
   "execution_count": 24,
   "id": "fcdcb7a3-bf65-40ef-b310-aafa6ce3df34",
   "metadata": {},
   "outputs": [
    {
     "data": {
      "text/plain": [
       "(101, 1223423454, 'rohan@gmail.com')"
      ]
     },
     "execution_count": 24,
     "metadata": {},
     "output_type": "execute_result"
    }
   ],
   "source": [
    "rohan.return_student_deetials()"
   ]
  },
  {
   "cell_type": "code",
   "execution_count": 25,
   "id": "1eb5129f-7c70-4fdb-aa0e-eb51ac872ce8",
   "metadata": {},
   "outputs": [],
   "source": [
    "gaurav = pwskills1(98797867678, \"gaurav@gmail.com\" , 102)"
   ]
  },
  {
   "cell_type": "code",
   "execution_count": 26,
   "id": "63261b72-189a-45c7-a7e3-5d66d1bba5e0",
   "metadata": {},
   "outputs": [
    {
     "data": {
      "text/plain": [
       "(102, 98797867678, 'gaurav@gmail.com')"
      ]
     },
     "execution_count": 26,
     "metadata": {},
     "output_type": "execute_result"
    }
   ],
   "source": [
    "gaurav.return_student_deetials()"
   ]
  },
  {
   "cell_type": "code",
   "execution_count": 40,
   "id": "84b126d0-3551-4602-b4a2-5d88a616b288",
   "metadata": {},
   "outputs": [],
   "source": [
    "class pwskills2 :\n",
    "    \n",
    "    def __init__(self , phone_number , email_id , student_id ):\n",
    "        self.phone_number1 = phone_number\n",
    "        self.email_id1 = email_id\n",
    "        self.student_id1 = student_id\n",
    "    def return_student_deetials(self) :\n",
    "        return self.student_id1 , self.phone_number1 , self.email_id1\n",
    "    "
   ]
  },
  {
   "cell_type": "code",
   "execution_count": 41,
   "id": "28236f6f-b98c-4eb2-83ce-219e665d88b4",
   "metadata": {},
   "outputs": [],
   "source": [
    "sudh = pwskills2(9999544322, \"sudh@gmail.com\" , 102)"
   ]
  },
  {
   "cell_type": "code",
   "execution_count": 42,
   "id": "a8b34b52-e29b-4009-8e77-051cd554bf38",
   "metadata": {},
   "outputs": [
    {
     "data": {
      "text/plain": [
       "<__main__.pwskills2 at 0x7f6c099352d0>"
      ]
     },
     "execution_count": 42,
     "metadata": {},
     "output_type": "execute_result"
    }
   ],
   "source": [
    "sudh"
   ]
  },
  {
   "cell_type": "code",
   "execution_count": 43,
   "id": "4ca29ea8-2fb2-4f9c-8592-4cfe81d01764",
   "metadata": {},
   "outputs": [
    {
     "ename": "AttributeError",
     "evalue": "'pwskills2' object has no attribute 'phone_number'",
     "output_type": "error",
     "traceback": [
      "\u001b[0;31m---------------------------------------------------------------------------\u001b[0m",
      "\u001b[0;31mAttributeError\u001b[0m                            Traceback (most recent call last)",
      "Cell \u001b[0;32mIn[43], line 1\u001b[0m\n\u001b[0;32m----> 1\u001b[0m \u001b[43msudh\u001b[49m\u001b[38;5;241;43m.\u001b[39;49m\u001b[43mphone_number\u001b[49m\n",
      "\u001b[0;31mAttributeError\u001b[0m: 'pwskills2' object has no attribute 'phone_number'"
     ]
    }
   ],
   "source": [
    "sudh.phone_number"
   ]
  },
  {
   "cell_type": "code",
   "execution_count": 44,
   "id": "dfd1408a-fb41-4b22-8ead-11577c72703b",
   "metadata": {},
   "outputs": [
    {
     "data": {
      "text/plain": [
       "9999544322"
      ]
     },
     "execution_count": 44,
     "metadata": {},
     "output_type": "execute_result"
    }
   ],
   "source": [
    "sudh.phone_number1"
   ]
  },
  {
   "cell_type": "code",
   "execution_count": 45,
   "id": "bf053a26-2d32-43e5-a594-afaf88942f38",
   "metadata": {},
   "outputs": [
    {
     "data": {
      "text/plain": [
       "'sudh@gmail.com'"
      ]
     },
     "execution_count": 45,
     "metadata": {},
     "output_type": "execute_result"
    }
   ],
   "source": [
    "sudh.email_id1"
   ]
  },
  {
   "cell_type": "code",
   "execution_count": 46,
   "id": "2c0c122a-6e06-43b2-a492-b2eb70e7b363",
   "metadata": {},
   "outputs": [
    {
     "data": {
      "text/plain": [
       "(102, 9999544322, 'sudh@gmail.com')"
      ]
     },
     "execution_count": 46,
     "metadata": {},
     "output_type": "execute_result"
    }
   ],
   "source": [
    "sudh.return_student_deetials()"
   ]
  },
  {
   "cell_type": "code",
   "execution_count": 50,
   "id": "39ac118f-d90b-4fb3-9338-b13ae22f9b0a",
   "metadata": {},
   "outputs": [],
   "source": [
    "class pwskills2 :\n",
    "    \n",
    "    def __init__(sudh , phone_number , email_id , student_id ):\n",
    "        sudh.phone_number1 = phone_number\n",
    "        sudh.email_id1 = email_id\n",
    "        sudh.student_id1 = student_id\n",
    "    def return_student_deetials(sudh) :\n",
    "        return sudh.student_id1 , sudh.phone_number1 , sudh.email_id1\n",
    "    "
   ]
  },
  {
   "cell_type": "code",
   "execution_count": 51,
   "id": "05359d9f-2f0b-4410-8329-4fb8ad1bf6c0",
   "metadata": {},
   "outputs": [],
   "source": [
    "rohan = pwskills2(3455765, \"rohan@gmail.com\" ,324)"
   ]
  },
  {
   "cell_type": "code",
   "execution_count": 52,
   "id": "1d82bd2c-7d1b-4b51-a4af-14681f0b97ad",
   "metadata": {},
   "outputs": [
    {
     "data": {
      "text/plain": [
       "3455765"
      ]
     },
     "execution_count": 52,
     "metadata": {},
     "output_type": "execute_result"
    }
   ],
   "source": [
    "rohan.phone_number1"
   ]
  },
  {
   "cell_type": "code",
   "execution_count": null,
   "id": "93c24644-8d39-4665-8c8b-04d701c565bd",
   "metadata": {},
   "outputs": [],
   "source": []
  }
 ],
 "metadata": {
  "kernelspec": {
   "display_name": "Python 3 (ipykernel)",
   "language": "python",
   "name": "python3"
  },
  "language_info": {
   "codemirror_mode": {
    "name": "ipython",
    "version": 3
   },
   "file_extension": ".py",
   "mimetype": "text/x-python",
   "name": "python",
   "nbconvert_exporter": "python",
   "pygments_lexer": "ipython3",
   "version": "3.10.8"
  }
 },
 "nbformat": 4,
 "nbformat_minor": 5
}
