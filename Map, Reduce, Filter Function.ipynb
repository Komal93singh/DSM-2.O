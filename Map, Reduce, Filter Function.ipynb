{
 "cells": [
  {
   "cell_type": "code",
   "execution_count": 2,
   "id": "5c2713f6-6f92-4ec8-af91-6d15625a6d9b",
   "metadata": {},
   "outputs": [],
   "source": [
    "l = [2,3,4,5,6]"
   ]
  },
  {
   "cell_type": "code",
   "execution_count": 3,
   "id": "c639618a-d0dc-4cdc-b7c3-1837f47bd700",
   "metadata": {},
   "outputs": [],
   "source": [
    "def test(l):\n",
    "    l1 = []\n",
    "    for i in l:\n",
    "        l1.append(i**2)\n",
    "    return l1"
   ]
  },
  {
   "cell_type": "code",
   "execution_count": 4,
   "id": "4c75f3ca-a168-4462-8e23-05bd4b9d1f34",
   "metadata": {},
   "outputs": [
    {
     "data": {
      "text/plain": [
       "[4, 9, 16, 25, 36]"
      ]
     },
     "execution_count": 4,
     "metadata": {},
     "output_type": "execute_result"
    }
   ],
   "source": [
    "test(l)"
   ]
  },
  {
   "cell_type": "code",
   "execution_count": 7,
   "id": "4b90bf99-e70b-456e-bff6-fbaa059019f1",
   "metadata": {},
   "outputs": [],
   "source": [
    "def sq(x):\n",
    "    return x**2"
   ]
  },
  {
   "cell_type": "code",
   "execution_count": 8,
   "id": "8b24d243-2c7e-4c0d-b49d-066786fbecae",
   "metadata": {},
   "outputs": [
    {
     "data": {
      "text/plain": [
       "[4, 9, 16, 25, 36]"
      ]
     },
     "execution_count": 8,
     "metadata": {},
     "output_type": "execute_result"
    }
   ],
   "source": [
    "list(map(sq , l))"
   ]
  },
  {
   "cell_type": "code",
   "execution_count": 9,
   "id": "79ad98e0-ae70-4fa6-8ec6-c59b7c38d384",
   "metadata": {},
   "outputs": [
    {
     "data": {
      "text/plain": [
       "[4, 9, 16, 25, 36]"
      ]
     },
     "execution_count": 9,
     "metadata": {},
     "output_type": "execute_result"
    }
   ],
   "source": [
    "list(map(lambda x : x**2 , l))"
   ]
  },
  {
   "cell_type": "code",
   "execution_count": 10,
   "id": "a0f628ea-3934-4b52-b505-100493622687",
   "metadata": {},
   "outputs": [
    {
     "data": {
      "text/plain": [
       "[7, 9, 11, 13, 15]"
      ]
     },
     "execution_count": 10,
     "metadata": {},
     "output_type": "execute_result"
    }
   ],
   "source": [
    "l1 = [1,2,3,4,5]\n",
    "l2 = [6,7,8,9,10]\n",
    "\n",
    "list(map(lambda x , y : x+y , l1 ,l2))"
   ]
  },
  {
   "cell_type": "code",
   "execution_count": 11,
   "id": "6e6c8a3b-5b53-457a-bfb7-69bee24efa36",
   "metadata": {},
   "outputs": [],
   "source": [
    "def add(x , y) :\n",
    "    return x+y"
   ]
  },
  {
   "cell_type": "code",
   "execution_count": 12,
   "id": "7260a315-72b4-478a-a820-050554353bd2",
   "metadata": {},
   "outputs": [
    {
     "data": {
      "text/plain": [
       "[7, 9, 11, 13, 15]"
      ]
     },
     "execution_count": 12,
     "metadata": {},
     "output_type": "execute_result"
    }
   ],
   "source": [
    "list(map(add , l1 , l2))"
   ]
  },
  {
   "cell_type": "code",
   "execution_count": 13,
   "id": "faa8dc4b-44b7-4a56-b372-060bb4a2d107",
   "metadata": {},
   "outputs": [
    {
     "data": {
      "text/plain": [
       "['P', 'W', 'S', 'K', 'I', 'L', 'L', 'S']"
      ]
     },
     "execution_count": 13,
     "metadata": {},
     "output_type": "execute_result"
    }
   ],
   "source": [
    "s = \"pwskills\"\n",
    "list(map(lambda s : s.upper() ,s))"
   ]
  },
  {
   "cell_type": "code",
   "execution_count": 14,
   "id": "b40da418-f4f1-41ce-870d-5f0786a9da9c",
   "metadata": {},
   "outputs": [],
   "source": [
    "from functools import reduce"
   ]
  },
  {
   "cell_type": "code",
   "execution_count": 15,
   "id": "517f2250-cb89-4eb7-9ac3-96b88ae1c048",
   "metadata": {},
   "outputs": [],
   "source": [
    "l = [1,2,3,3,4,5]"
   ]
  },
  {
   "cell_type": "code",
   "execution_count": 16,
   "id": "f4ab07fd-5a29-4fa6-9d55-3505f24e31a1",
   "metadata": {},
   "outputs": [
    {
     "data": {
      "text/plain": [
       "18"
      ]
     },
     "execution_count": 16,
     "metadata": {},
     "output_type": "execute_result"
    }
   ],
   "source": [
    "reduce(lambda x , y : x+y , l)"
   ]
  },
  {
   "cell_type": "code",
   "execution_count": 17,
   "id": "db08924a-34b3-43de-b10c-5fdc49d18e67",
   "metadata": {},
   "outputs": [
    {
     "ename": "TypeError",
     "evalue": "<lambda>() missing 1 required positional argument: 'z'",
     "output_type": "error",
     "traceback": [
      "\u001b[0;31m---------------------------------------------------------------------------\u001b[0m",
      "\u001b[0;31mTypeError\u001b[0m                                 Traceback (most recent call last)",
      "Cell \u001b[0;32mIn[17], line 1\u001b[0m\n\u001b[0;32m----> 1\u001b[0m \u001b[43mreduce\u001b[49m\u001b[43m(\u001b[49m\u001b[38;5;28;43;01mlambda\u001b[39;49;00m\u001b[43m \u001b[49m\u001b[43mx\u001b[49m\u001b[43m \u001b[49m\u001b[43m,\u001b[49m\u001b[43m \u001b[49m\u001b[43my\u001b[49m\u001b[43m \u001b[49m\u001b[43m,\u001b[49m\u001b[43mz\u001b[49m\u001b[43m \u001b[49m\u001b[43m:\u001b[49m\u001b[43m \u001b[49m\u001b[43mx\u001b[49m\u001b[38;5;241;43m+\u001b[39;49m\u001b[43my\u001b[49m\u001b[38;5;241;43m+\u001b[39;49m\u001b[43mz\u001b[49m\u001b[43m \u001b[49m\u001b[43m,\u001b[49m\u001b[43m \u001b[49m\u001b[43ml\u001b[49m\u001b[43m)\u001b[49m\n",
      "\u001b[0;31mTypeError\u001b[0m: <lambda>() missing 1 required positional argument: 'z'"
     ]
    }
   ],
   "source": [
    "reduce(lambda x , y ,z : x+y+z , l)"
   ]
  },
  {
   "cell_type": "code",
   "execution_count": 19,
   "id": "067de590-318a-41a5-bfee-8e15059ce52f",
   "metadata": {},
   "outputs": [
    {
     "data": {
      "text/plain": [
       "1"
      ]
     },
     "execution_count": 19,
     "metadata": {},
     "output_type": "execute_result"
    }
   ],
   "source": [
    "reduce(lambda x , y : x+y , [1])"
   ]
  },
  {
   "cell_type": "code",
   "execution_count": 21,
   "id": "86dabe20-469a-4c2d-b90f-c925af4d66f6",
   "metadata": {},
   "outputs": [
    {
     "data": {
      "text/plain": [
       "360"
      ]
     },
     "execution_count": 21,
     "metadata": {},
     "output_type": "execute_result"
    }
   ],
   "source": [
    "reduce(lambda x , y : x*y , l)"
   ]
  },
  {
   "cell_type": "code",
   "execution_count": 22,
   "id": "f0c9496f-8839-4aec-b3e3-00fbe81dd1f9",
   "metadata": {},
   "outputs": [
    {
     "data": {
      "text/plain": [
       "[1, 2, 3, 3, 4, 5]"
      ]
     },
     "execution_count": 22,
     "metadata": {},
     "output_type": "execute_result"
    }
   ],
   "source": [
    "l"
   ]
  },
  {
   "cell_type": "code",
   "execution_count": 23,
   "id": "cd1d1a62-bc7c-4edd-9f22-0c2419027e44",
   "metadata": {},
   "outputs": [
    {
     "data": {
      "text/plain": [
       "5"
      ]
     },
     "execution_count": 23,
     "metadata": {},
     "output_type": "execute_result"
    }
   ],
   "source": [
    "reduce(lambda x,y : x if x>y else y, l)"
   ]
  },
  {
   "cell_type": "code",
   "execution_count": 24,
   "id": "80dd76ae-7a06-4aa5-846f-1878db47bea8",
   "metadata": {},
   "outputs": [
    {
     "data": {
      "text/plain": [
       "[1, 2, 3, 3, 4, 5]"
      ]
     },
     "execution_count": 24,
     "metadata": {},
     "output_type": "execute_result"
    }
   ],
   "source": [
    "l"
   ]
  },
  {
   "cell_type": "code",
   "execution_count": 25,
   "id": "5971e492-0db9-4cc1-9b32-c74ba09abb3a",
   "metadata": {},
   "outputs": [
    {
     "data": {
      "text/plain": [
       "[2, 4]"
      ]
     },
     "execution_count": 25,
     "metadata": {},
     "output_type": "execute_result"
    }
   ],
   "source": [
    "list(filter(lambda x : x % 2 == 0 , l))"
   ]
  },
  {
   "cell_type": "code",
   "execution_count": 27,
   "id": "99b3ba3c-39d6-400b-94ba-2505f081bd52",
   "metadata": {},
   "outputs": [
    {
     "data": {
      "text/plain": [
       "[1, 3, 3, 5]"
      ]
     },
     "execution_count": 27,
     "metadata": {},
     "output_type": "execute_result"
    }
   ],
   "source": [
    "list(filter(lambda x : x % 2 != 0 , l))"
   ]
  },
  {
   "cell_type": "code",
   "execution_count": 28,
   "id": "4fe767e2-d2d5-4b8e-8cdd-5944eb44ee11",
   "metadata": {},
   "outputs": [],
   "source": [
    "l1 = [-3,4,5,6,-1,-5]"
   ]
  },
  {
   "cell_type": "code",
   "execution_count": 29,
   "id": "2a989ca2-b3ea-4178-93c0-3ea9ea2b6acd",
   "metadata": {},
   "outputs": [
    {
     "data": {
      "text/plain": [
       "[-3, -1, -5]"
      ]
     },
     "execution_count": 29,
     "metadata": {},
     "output_type": "execute_result"
    }
   ],
   "source": [
    "list(filter(lambda x : x<0 , l1))"
   ]
  },
  {
   "cell_type": "code",
   "execution_count": 30,
   "id": "20dfd08e-9f09-40e6-80f6-09a462a672bc",
   "metadata": {},
   "outputs": [],
   "source": [
    "l2 = [\"sudh\" , \"pwskills\" , \"kumar\" , \"bangalore\" , \"krish\"]"
   ]
  },
  {
   "cell_type": "code",
   "execution_count": 31,
   "id": "924d6859-86aa-4148-9cab-d1a4df32a1ea",
   "metadata": {},
   "outputs": [
    {
     "data": {
      "text/plain": [
       "['sudh', 'kumar', 'krish']"
      ]
     },
     "execution_count": 31,
     "metadata": {},
     "output_type": "execute_result"
    }
   ],
   "source": [
    "list(filter(lambda x : len(x) <6 ,l2))"
   ]
  },
  {
   "cell_type": "code",
   "execution_count": null,
   "id": "cb57b519-4219-4b32-be00-3c8954560808",
   "metadata": {},
   "outputs": [],
   "source": []
  }
 ],
 "metadata": {
  "kernelspec": {
   "display_name": "Python 3 (ipykernel)",
   "language": "python",
   "name": "python3"
  },
  "language_info": {
   "codemirror_mode": {
    "name": "ipython",
    "version": 3
   },
   "file_extension": ".py",
   "mimetype": "text/x-python",
   "name": "python",
   "nbconvert_exporter": "python",
   "pygments_lexer": "ipython3",
   "version": "3.10.8"
  }
 },
 "nbformat": 4,
 "nbformat_minor": 5
}
